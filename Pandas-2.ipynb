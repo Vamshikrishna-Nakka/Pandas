{
 "cells": [
  {
   "cell_type": "markdown",
   "metadata": {},
   "source": [
    "#### Importing Data\n",
    "#### Use these commands to import data from a variety of different sources and formats."
   ]
  },
  {
   "cell_type": "raw",
   "metadata": {},
   "source": [
    "pd.read_csv(filename) | From a CSV file\n",
    "pd.read_table(filename) | From a delimited text file (like TSV)\n",
    "pd.read_excel(filename) | From an Excel file\n",
    "pd.read_sql(query, connection_object) | Read from a SQL table/database\n",
    "pd.read_json(json_string) | Read from a JSON formatted string, URL or file.\n",
    "pd.read_html(url) | Parses an html URL, string or file and extracts tables to a list of dataframes\n",
    "pd.read_clipboard() | Takes the contents of your clipboard and passes it to read_table()\n",
    "pd.DataFrame(dict) | From a dict, keys for columns names, values for data as lists"
   ]
  },
  {
   "cell_type": "markdown",
   "metadata": {},
   "source": [
    "#### Exporting Data\n",
    "#### Use these commands to export a DataFrame to CSV, .xlsx, SQL, or JSON."
   ]
  },
  {
   "cell_type": "raw",
   "metadata": {},
   "source": [
    "df.to_csv(filename) | Write to a CSV file\n",
    "df.to_excel(filename) | Write to an Excel file\n",
    "df.to_sql(table_name, connection_object) | Write to a SQL table\n",
    "df.to_json(filename) | Write to a file in JSON format"
   ]
  },
  {
   "cell_type": "markdown",
   "metadata": {},
   "source": [
    "#### Create Test Objects\n",
    "#### These commands can be useful for creating test segments."
   ]
  },
  {
   "cell_type": "markdown",
   "metadata": {},
   "source": [
    "- pd.DataFrame(np.random.rand(10,5)) | 5 columns and 10 rows of random floats<br>\n",
    "- pd.Series(my_list) | Create a series from an iterable my_list<br>\n",
    "- date_range(start=None, end=None, periods=None, freq=None, tz=None, normalize=False, name=None, closed=None, **kwargs)<br>"
   ]
  },
  {
   "cell_type": "code",
   "execution_count": 2,
   "metadata": {},
   "outputs": [
    {
     "data": {
      "text/html": [
       "<div>\n",
       "<style scoped>\n",
       "    .dataframe tbody tr th:only-of-type {\n",
       "        vertical-align: middle;\n",
       "    }\n",
       "\n",
       "    .dataframe tbody tr th {\n",
       "        vertical-align: top;\n",
       "    }\n",
       "\n",
       "    .dataframe thead th {\n",
       "        text-align: right;\n",
       "    }\n",
       "</style>\n",
       "<table border=\"1\" class=\"dataframe\">\n",
       "  <thead>\n",
       "    <tr style=\"text-align: right;\">\n",
       "      <th></th>\n",
       "      <th>0</th>\n",
       "      <th>1</th>\n",
       "      <th>2</th>\n",
       "      <th>3</th>\n",
       "      <th>4</th>\n",
       "    </tr>\n",
       "  </thead>\n",
       "  <tbody>\n",
       "    <tr>\n",
       "      <th>0</th>\n",
       "      <td>0.446047</td>\n",
       "      <td>0.926830</td>\n",
       "      <td>0.397354</td>\n",
       "      <td>0.539185</td>\n",
       "      <td>0.731732</td>\n",
       "    </tr>\n",
       "    <tr>\n",
       "      <th>1</th>\n",
       "      <td>0.954116</td>\n",
       "      <td>0.985358</td>\n",
       "      <td>0.602756</td>\n",
       "      <td>0.547908</td>\n",
       "      <td>0.425641</td>\n",
       "    </tr>\n",
       "    <tr>\n",
       "      <th>2</th>\n",
       "      <td>0.830326</td>\n",
       "      <td>0.426221</td>\n",
       "      <td>0.400208</td>\n",
       "      <td>0.060195</td>\n",
       "      <td>0.786112</td>\n",
       "    </tr>\n",
       "    <tr>\n",
       "      <th>3</th>\n",
       "      <td>0.380174</td>\n",
       "      <td>0.714580</td>\n",
       "      <td>0.354383</td>\n",
       "      <td>0.450975</td>\n",
       "      <td>0.680061</td>\n",
       "    </tr>\n",
       "    <tr>\n",
       "      <th>4</th>\n",
       "      <td>0.703480</td>\n",
       "      <td>0.929301</td>\n",
       "      <td>0.987121</td>\n",
       "      <td>0.530212</td>\n",
       "      <td>0.961538</td>\n",
       "    </tr>\n",
       "    <tr>\n",
       "      <th>5</th>\n",
       "      <td>0.659887</td>\n",
       "      <td>0.620645</td>\n",
       "      <td>0.400033</td>\n",
       "      <td>0.493587</td>\n",
       "      <td>0.049436</td>\n",
       "    </tr>\n",
       "    <tr>\n",
       "      <th>6</th>\n",
       "      <td>0.144013</td>\n",
       "      <td>0.610761</td>\n",
       "      <td>0.584216</td>\n",
       "      <td>0.192613</td>\n",
       "      <td>0.201331</td>\n",
       "    </tr>\n",
       "    <tr>\n",
       "      <th>7</th>\n",
       "      <td>0.871204</td>\n",
       "      <td>0.571821</td>\n",
       "      <td>0.938485</td>\n",
       "      <td>0.863750</td>\n",
       "      <td>0.331762</td>\n",
       "    </tr>\n",
       "    <tr>\n",
       "      <th>8</th>\n",
       "      <td>0.088309</td>\n",
       "      <td>0.145859</td>\n",
       "      <td>0.389425</td>\n",
       "      <td>0.422433</td>\n",
       "      <td>0.787627</td>\n",
       "    </tr>\n",
       "    <tr>\n",
       "      <th>9</th>\n",
       "      <td>0.756833</td>\n",
       "      <td>0.495529</td>\n",
       "      <td>0.100838</td>\n",
       "      <td>0.800193</td>\n",
       "      <td>0.557347</td>\n",
       "    </tr>\n",
       "  </tbody>\n",
       "</table>\n",
       "</div>"
      ],
      "text/plain": [
       "          0         1         2         3         4\n",
       "0  0.446047  0.926830  0.397354  0.539185  0.731732\n",
       "1  0.954116  0.985358  0.602756  0.547908  0.425641\n",
       "2  0.830326  0.426221  0.400208  0.060195  0.786112\n",
       "3  0.380174  0.714580  0.354383  0.450975  0.680061\n",
       "4  0.703480  0.929301  0.987121  0.530212  0.961538\n",
       "5  0.659887  0.620645  0.400033  0.493587  0.049436\n",
       "6  0.144013  0.610761  0.584216  0.192613  0.201331\n",
       "7  0.871204  0.571821  0.938485  0.863750  0.331762\n",
       "8  0.088309  0.145859  0.389425  0.422433  0.787627\n",
       "9  0.756833  0.495529  0.100838  0.800193  0.557347"
      ]
     },
     "execution_count": 2,
     "metadata": {},
     "output_type": "execute_result"
    }
   ],
   "source": [
    "import pandas as pd\n",
    "import numpy as np\n",
    "pd.DataFrame(np.random.rand(10,5))"
   ]
  },
  {
   "cell_type": "code",
   "execution_count": 6,
   "metadata": {},
   "outputs": [
    {
     "data": {
      "text/plain": [
       "DatetimeIndex(['2018-01-01', '2018-01-02', '2018-01-03', '2018-01-04',\n",
       "               '2018-01-05', '2018-01-06', '2018-01-07', '2018-01-08'],\n",
       "              dtype='datetime64[ns]', freq='D')"
      ]
     },
     "execution_count": 6,
     "metadata": {},
     "output_type": "execute_result"
    }
   ],
   "source": [
    "#start and end\n",
    "pd.date_range(start='1/1/2018', end='1/08/2018')"
   ]
  },
  {
   "cell_type": "code",
   "execution_count": 5,
   "metadata": {},
   "outputs": [
    {
     "data": {
      "text/plain": [
       "DatetimeIndex(['2018-01-01', '2018-01-02', '2018-01-03', '2018-01-04',\n",
       "               '2018-01-05', '2018-01-06', '2018-01-07', '2018-01-08'],\n",
       "              dtype='datetime64[ns]', freq='D')"
      ]
     },
     "execution_count": 5,
     "metadata": {},
     "output_type": "execute_result"
    }
   ],
   "source": [
    "# start and periods(days)\n",
    "pd.date_range(start='1/1/2018', periods=8)"
   ]
  },
  {
   "cell_type": "code",
   "execution_count": 9,
   "metadata": {},
   "outputs": [
    {
     "data": {
      "text/plain": [
       "DatetimeIndex(['2018-01-31', '2018-04-30', '2018-07-31', '2018-10-31',\n",
       "               '2019-01-31'],\n",
       "              dtype='datetime64[ns]', freq='3M')"
      ]
     },
     "execution_count": 9,
     "metadata": {},
     "output_type": "execute_result"
    }
   ],
   "source": [
    "#Changed the freq (frequency) to 'M' (month end frequency).\n",
    "pd.date_range(start='1/1/2018', periods=5, freq='M')\n",
    "#freq can also be specified as an Offset object.\n",
    "pd.date_range(start='1/1/2018', periods=5, freq=pd.offsets.MonthEnd(3))"
   ]
  },
  {
   "cell_type": "code",
   "execution_count": 8,
   "metadata": {},
   "outputs": [
    {
     "data": {
      "text/plain": [
       "DatetimeIndex(['2018-01-01 00:00:00+09:00', '2018-01-02 00:00:00+09:00',\n",
       "               '2018-01-03 00:00:00+09:00', '2018-01-04 00:00:00+09:00',\n",
       "               '2018-01-05 00:00:00+09:00'],\n",
       "              dtype='datetime64[ns, Asia/Tokyo]', freq='D')"
      ]
     },
     "execution_count": 8,
     "metadata": {},
     "output_type": "execute_result"
    }
   ],
   "source": [
    "#timezone tz\n",
    "pd.date_range(start='1/1/2018', periods=5, tz='Asia/Tokyo')"
   ]
  },
  {
   "cell_type": "markdown",
   "metadata": {},
   "source": [
    "#### Data Cleaning\n",
    "#### Use these commands to perform a variety of data cleaning tasks."
   ]
  },
  {
   "cell_type": "raw",
   "metadata": {},
   "source": [
    "df.columns = ['a','b','c'] | Rename columns\n",
    "pd.isnull() | Checks for null Values, Returns Boolean Arrray\n",
    "pd.notnull() | Opposite of pd.isnull()\n",
    "df.dropna() | Drop all rows that contain null values\n",
    "df.dropna(axis=1) | Drop all columns that contain null values\n",
    "df.dropna(axis=1,thresh=n) | Drop all rows have have less than n non null values\n",
    "df.fillna(x) | Replace all null values with x\n",
    "s.fillna(s.mean()) | Replace all null values with the mean (mean can be replaced with almost any function from the statistics module)\n",
    "s.astype(float) | Convert the datatype of the series to float\n",
    "s.replace(1,'one') | Replace all values equal to 1 with 'one'\n",
    "s.replace([1,3],['one','three']) | Replace all 1 with 'one' and 3 with 'three'\n",
    "df.rename(columns=lambda x: x + 1) | Mass renaming of columns\n",
    "df.rename(columns={'old_name': 'new_ name'}) | Selective renaming\n",
    "df.set_index('column_one') | Change the index\n",
    "df.rename(index=lambda x: x + 1) | Mass renaming of index"
   ]
  },
  {
   "cell_type": "markdown",
   "metadata": {},
   "source": [
    "#### Filter, Sort, and Groupby\n",
    "#### Use these commands to filter, sort, and group your data."
   ]
  },
  {
   "cell_type": "raw",
   "metadata": {},
   "source": [
    "df[df[col] > 0.5] | Rows where the column col is greater than 0.5\n",
    "df[(df[col] > 0.5) & (df[col] < 0.7)] | Rows where 0.7 > col > 0.5\n",
    "df.sort_values(col1) | Sort values by col1 in ascending order\n",
    "df.sort_values(col2,ascending=False) | Sort values by col2 in descending order\n",
    "df.sort_values([col1,col2],ascending=[True,False]) | Sort values by col1 in ascending order then col2 in descending order\n",
    "df.groupby(col) | Returns a groupby object for values from one column\n",
    "df.groupby([col1,col2]) | Returns groupby object for values from multiple columns\n",
    "df.groupby(col1)[col2] | Returns the mean of the values in col2, grouped by the values in col1 (mean can be replaced with almost any function from the statistics module)\n",
    "df.pivot_table(index=col1,values=[col2,col3],aggfunc=mean) | Create a pivot table that groups by col1 and calculates the mean of col2 and col3\n",
    "df.groupby(col1).agg(np.mean) | Find the average across all columns for every unique col1 group\n",
    "df.apply(np.mean) | Apply the function np.mean() across each column\n",
    "nf.apply(np.max,axis=1) | Apply the function np.max() across each row"
   ]
  },
  {
   "cell_type": "markdown",
   "metadata": {},
   "source": [
    "#### Join/Combine\n",
    "#### Use these commands to combine multiple dataframes into a single one."
   ]
  },
  {
   "cell_type": "raw",
   "metadata": {},
   "source": [
    "df1.append(df2) | Add the rows in df1 to the end of df2 (columns should be identical)\n",
    "pd.concat(objs, axis=0, join='outer', ignore_index=False, keys=None,levels=None, names=None, verify_integrity=False, copy=True)\n",
    "df1.join(df2,on=col1,how='inner') | SQL-style join the columns in df1 with the columns on df2 where the rows for col have identical values. 'how' can be one of 'left', 'right', 'outer', 'inner'"
   ]
  },
  {
   "cell_type": "code",
   "execution_count": 18,
   "metadata": {},
   "outputs": [
    {
     "data": {
      "text/html": [
       "<div>\n",
       "<style scoped>\n",
       "    .dataframe tbody tr th:only-of-type {\n",
       "        vertical-align: middle;\n",
       "    }\n",
       "\n",
       "    .dataframe tbody tr th {\n",
       "        vertical-align: top;\n",
       "    }\n",
       "\n",
       "    .dataframe thead th {\n",
       "        text-align: right;\n",
       "    }\n",
       "</style>\n",
       "<table border=\"1\" class=\"dataframe\">\n",
       "  <thead>\n",
       "    <tr style=\"text-align: right;\">\n",
       "      <th></th>\n",
       "      <th>A</th>\n",
       "      <th>B</th>\n",
       "    </tr>\n",
       "  </thead>\n",
       "  <tbody>\n",
       "    <tr>\n",
       "      <th>0</th>\n",
       "      <td>A0</td>\n",
       "      <td>B0</td>\n",
       "    </tr>\n",
       "    <tr>\n",
       "      <th>1</th>\n",
       "      <td>A1</td>\n",
       "      <td>B1</td>\n",
       "    </tr>\n",
       "    <tr>\n",
       "      <th>4</th>\n",
       "      <td>A4</td>\n",
       "      <td>B4</td>\n",
       "    </tr>\n",
       "    <tr>\n",
       "      <th>5</th>\n",
       "      <td>A5</td>\n",
       "      <td>B5</td>\n",
       "    </tr>\n",
       "  </tbody>\n",
       "</table>\n",
       "</div>"
      ],
      "text/plain": [
       "    A   B\n",
       "0  A0  B0\n",
       "1  A1  B1\n",
       "4  A4  B4\n",
       "5  A5  B5"
      ]
     },
     "execution_count": 18,
     "metadata": {},
     "output_type": "execute_result"
    }
   ],
   "source": [
    "#Add the columns in df1 to the end of df2 (rows should be identical)\n",
    "df1 = pd.DataFrame({'A': ['A0', 'A1'],\n",
    "                   'B': ['B0', 'B1']},\n",
    "                  index=[0, 1])\n",
    "df2 = pd.DataFrame({'A': ['A4', 'A5'],\n",
    "                   'B': ['B4', 'B5']},\n",
    "                  index=[4, 5])\n",
    "frames = [df1, df2]\n",
    "result = pd.concat(frames)\n",
    "result"
   ]
  },
  {
   "cell_type": "code",
   "execution_count": null,
   "metadata": {},
   "outputs": [],
   "source": []
  },
  {
   "cell_type": "markdown",
   "metadata": {},
   "source": [
    "#### Statistics\n",
    "#### Use these commands to perform various statistical tests. (These can all be applied to a series as well.)"
   ]
  },
  {
   "cell_type": "raw",
   "metadata": {},
   "source": [
    "df.describe() | Summary statistics for numerical columns\n",
    "df.mean() | Returns the mean of all columns\n",
    "df.corr() | Returns the correlation between columns in a DataFrame\n",
    "df.count() | Returns the number of non-null values in each DataFrame column\n",
    "df.max() | Returns the highest value in each column\n",
    "df.min() | Returns the lowest value in each column\n",
    "df.median() | Returns the median of each column\n",
    "df.std() | Returns the standard deviation of each column\n",
    "df.pct_change(periods=3) | Series and DataFrame have a method pct_change() to compute the percent change over a given number of periods"
   ]
  },
  {
   "cell_type": "code",
   "execution_count": null,
   "metadata": {},
   "outputs": [],
   "source": []
  }
 ],
 "metadata": {
  "kernelspec": {
   "display_name": "Python 3",
   "language": "python",
   "name": "python3"
  },
  "language_info": {
   "codemirror_mode": {
    "name": "ipython",
    "version": 3
   },
   "file_extension": ".py",
   "mimetype": "text/x-python",
   "name": "python",
   "nbconvert_exporter": "python",
   "pygments_lexer": "ipython3",
   "version": "3.7.6"
  }
 },
 "nbformat": 4,
 "nbformat_minor": 4
}
